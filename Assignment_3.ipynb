{
  "nbformat": 4,
  "nbformat_minor": 0,
  "metadata": {
    "colab": {
      "name": "Assignment 3.ipynb",
      "provenance": [],
      "collapsed_sections": [],
      "authorship_tag": "ABX9TyM9bL+e/hvwjJanukg6zyZg",
      "include_colab_link": true
    },
    "kernelspec": {
      "name": "python3",
      "display_name": "Python 3"
    }
  },
  "cells": [
    {
      "cell_type": "markdown",
      "metadata": {
        "id": "view-in-github",
        "colab_type": "text"
      },
      "source": [
        "<a href=\"https://colab.research.google.com/github/Divyarajvs/Ineuron/blob/master/Assignment_3.ipynb\" target=\"_parent\"><img src=\"https://colab.research.google.com/assets/colab-badge.svg\" alt=\"Open In Colab\"/></a>"
      ]
    },
    {
      "cell_type": "markdown",
      "metadata": {
        "id": "jRrF3lQe6Kaf",
        "colab_type": "text"
      },
      "source": [
        "1.1 Write a Python Program to implement your own myreduce() function which works exactly\n",
        "like Python's built-in function reduce()"
      ]
    },
    {
      "cell_type": "code",
      "metadata": {
        "id": "2MUe8y_17btC",
        "colab_type": "code",
        "colab": {}
      },
      "source": [
        "lst=[1,2,3,4,5,6]"
      ],
      "execution_count": 5,
      "outputs": []
    },
    {
      "cell_type": "code",
      "metadata": {
        "id": "IhQyyNpb-TY6",
        "colab_type": "code",
        "colab": {
          "base_uri": "https://localhost:8080/",
          "height": 34
        },
        "outputId": "7a1a7f76-0f51-4dcd-f550-d2e0c93697ad"
      },
      "source": [
        "\n",
        "def myreduce(num):\n",
        "   add_val=0\n",
        "   for i in num:\n",
        "       add_val=add_val+i\n",
        "        \n",
        "   return add_val\n",
        "\n",
        "myreduce(lst)"
      ],
      "execution_count": null,
      "outputs": [
        {
          "output_type": "execute_result",
          "data": {
            "text/plain": [
              "21"
            ]
          },
          "metadata": {
            "tags": []
          },
          "execution_count": 3
        }
      ]
    },
    {
      "cell_type": "markdown",
      "metadata": {
        "id": "G9lVVzaM7fIF",
        "colab_type": "text"
      },
      "source": [
        "**With reduce()**"
      ]
    },
    {
      "cell_type": "code",
      "metadata": {
        "id": "U-to_jjC63N0",
        "colab_type": "code",
        "colab": {
          "base_uri": "https://localhost:8080/",
          "height": 34
        },
        "outputId": "2f0d16d4-069f-408c-bd4f-6e61257027fa"
      },
      "source": [
        "from functools import reduce\n",
        "\n",
        "reduce(lambda a,b: a+b,lst)"
      ],
      "execution_count": null,
      "outputs": [
        {
          "output_type": "execute_result",
          "data": {
            "text/plain": [
              "21"
            ]
          },
          "metadata": {
            "tags": []
          },
          "execution_count": 4
        }
      ]
    },
    {
      "cell_type": "markdown",
      "metadata": {
        "id": "Pqhglexl7u6H",
        "colab_type": "text"
      },
      "source": [
        "**1.2 Write a Python program to implement your own myfilter() function which works exactly\n",
        "like Python's built-in function filter()**"
      ]
    },
    {
      "cell_type": "code",
      "metadata": {
        "id": "TJr9eJ_ORMZP",
        "colab_type": "code",
        "colab": {
          "base_uri": "https://localhost:8080/",
          "height": 34
        },
        "outputId": "3263cecc-932f-4d72-97a3-3c52a6babbaf"
      },
      "source": [
        "def calci(num):\n",
        "  if num%2==0:\n",
        "    return True\n",
        "\n",
        "\n",
        "\n",
        "def myfilter(logicfun,listval):\n",
        "      d=[]\n",
        "      for i in listval:\n",
        "        if(logicfun(i)==True):\n",
        "        \n",
        "          d.append(i)\n",
        "      return d\n",
        "\n",
        "z=myfilter(calci,lst)\n",
        "print(z)"
      ],
      "execution_count": 6,
      "outputs": [
        {
          "output_type": "stream",
          "text": [
            "[2, 4, 6]\n"
          ],
          "name": "stdout"
        }
      ]
    },
    {
      "cell_type": "markdown",
      "metadata": {
        "id": "ZHbAAg_Byzam",
        "colab_type": "text"
      },
      "source": [
        "**With filter()**"
      ]
    },
    {
      "cell_type": "code",
      "metadata": {
        "id": "VKid9h_ly2Br",
        "colab_type": "code",
        "colab": {
          "base_uri": "https://localhost:8080/",
          "height": 34
        },
        "outputId": "b2567f59-ccfe-42c2-ea3c-9237cddead9e"
      },
      "source": [
        "z=list(filter(calci,lst))\n",
        "z"
      ],
      "execution_count": 7,
      "outputs": [
        {
          "output_type": "execute_result",
          "data": {
            "text/plain": [
              "[2, 4, 6]"
            ]
          },
          "metadata": {
            "tags": []
          },
          "execution_count": 7
        }
      ]
    },
    {
      "cell_type": "markdown",
      "metadata": {
        "id": "a4IiTCY98TYw",
        "colab_type": "text"
      },
      "source": [
        "2. **Implement List comprehensions to produce the following lists.\n",
        "Write List comprehensions to produce the following Lists**"
      ]
    },
    {
      "cell_type": "markdown",
      "metadata": {
        "id": "CQbiq8t3yNe1",
        "colab_type": "text"
      },
      "source": [
        "**Code for the o/p ['x', 'xx', 'xxx', 'xxxx', 'y', 'yy', 'yyy', 'yyyy', 'z', 'zz', 'zzz', 'zzzz']**"
      ]
    },
    {
      "cell_type": "code",
      "metadata": {
        "id": "Epx5e642r3wq",
        "colab_type": "code",
        "colab": {
          "base_uri": "https://localhost:8080/",
          "height": 34
        },
        "outputId": "33a4dfe5-f06c-42b0-85b8-ad035d4b1984"
      },
      "source": [
        "lst1=['x','y','z']\n",
        "\n",
        "def class1(num):\n",
        "    box=[]\n",
        "    #val_z=''\n",
        "    for i in num: \n",
        "      val_z=''\n",
        "      for j in range(0,4):\n",
        "        val_z=val_z+i\n",
        "        box.append(val_z)\n",
        "    return box\n",
        "z=class1(lst1)\n",
        "z\n",
        "\n",
        "\n",
        "\n",
        "\n",
        "\n"
      ],
      "execution_count": 57,
      "outputs": [
        {
          "output_type": "execute_result",
          "data": {
            "text/plain": [
              "['x', 'xx', 'xxx', 'xxxx', 'y', 'yy', 'yyy', 'yyyy', 'z', 'zz', 'zzz', 'zzzz']"
            ]
          },
          "metadata": {
            "tags": []
          },
          "execution_count": 57
        }
      ]
    },
    {
      "cell_type": "markdown",
      "metadata": {
        "id": "Cw5s_aCByaFy",
        "colab_type": "text"
      },
      "source": [
        "**Code for the o/p ['x', 'y', 'z', 'xx', 'yy', 'zz', 'xxx', 'yyy', 'zzz', 'xxxx', 'yyyy', 'zzzz']**"
      ]
    },
    {
      "cell_type": "code",
      "metadata": {
        "id": "EDTi3Q35TWkj",
        "colab_type": "code",
        "colab": {
          "base_uri": "https://localhost:8080/",
          "height": 34
        },
        "outputId": "6bb20ee1-ccea-4c5c-fe63-d4c737847b71"
      },
      "source": [
        "def class2(num1):\n",
        "    box1=[]\n",
        "    val_z2=''\n",
        "    for j in range(1,5):\n",
        "          val_z2= ''\n",
        "          for i in num1:\n",
        "            val_z2= ''\n",
        "            for k in range(0,j):\n",
        "              val_z2= val_z2 + i\n",
        "            box1.append(val_z2)\n",
        "               \n",
        "    return box1\n",
        "\n",
        "z=class2(lst1)\n",
        "z\n",
        "          \n"
      ],
      "execution_count": 101,
      "outputs": [
        {
          "output_type": "execute_result",
          "data": {
            "text/plain": [
              "['x', 'y', 'z', 'xx', 'yy', 'zz', 'xxx', 'yyy', 'zzz', 'xxxx', 'yyyy', 'zzzz']"
            ]
          },
          "metadata": {
            "tags": []
          },
          "execution_count": 101
        }
      ]
    },
    {
      "cell_type": "markdown",
      "metadata": {
        "id": "ek25Hn-fx8HS",
        "colab_type": "text"
      },
      "source": [
        "**Code for the o/P [(1, 1), (2, 1), (3, 1), (1, 2), (2, 2), (3, 2), (1, 3), (2, 3), (3, 3)]**"
      ]
    },
    {
      "cell_type": "code",
      "metadata": {
        "id": "Y8UBjUe1pHiN",
        "colab_type": "code",
        "colab": {}
      },
      "source": [
        "def fun(q1):\n",
        "    bak=[]\n",
        "    vax=''\n",
        "    for i in q1:\n",
        "       for j in range(0,1):\n",
        "         for l in q1: \n",
        "           vax=(l,i)\n",
        "           bak.append(vax)\n",
        "    return bak"
      ],
      "execution_count": 197,
      "outputs": []
    },
    {
      "cell_type": "code",
      "metadata": {
        "id": "61bLgveHu2f7",
        "colab_type": "code",
        "colab": {
          "base_uri": "https://localhost:8080/",
          "height": 34
        },
        "outputId": "10d37279-a465-4042-e6c9-8d44c51574bf"
      },
      "source": [
        "xq=[1,2,3]\n",
        "\n",
        "d=fun(xq)\n",
        "d"
      ],
      "execution_count": 198,
      "outputs": [
        {
          "output_type": "execute_result",
          "data": {
            "text/plain": [
              "[(1, 1), (2, 1), (3, 1), (1, 2), (2, 2), (3, 2), (1, 3), (2, 3), (3, 3)]"
            ]
          },
          "metadata": {
            "tags": []
          },
          "execution_count": 198
        }
      ]
    }
  ]
}