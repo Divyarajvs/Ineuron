{
  "nbformat": 4,
  "nbformat_minor": 0,
  "metadata": {
    "colab": {
      "name": "python assignment 2.ipynb",
      "provenance": [],
      "collapsed_sections": [],
      "authorship_tag": "ABX9TyPDbw7zE5SQWnbc7Rp4/6la",
      "include_colab_link": true
    },
    "kernelspec": {
      "name": "python3",
      "display_name": "Python 3"
    }
  },
  "cells": [
    {
      "cell_type": "markdown",
      "metadata": {
        "id": "view-in-github",
        "colab_type": "text"
      },
      "source": [
        "<a href=\"https://colab.research.google.com/github/Divyarajvs/Ineuron/blob/master/python_assignment_2.ipynb\" target=\"_parent\"><img src=\"https://colab.research.google.com/assets/colab-badge.svg\" alt=\"Open In Colab\"/></a>"
      ]
    },
    {
      "cell_type": "markdown",
      "metadata": {
        "id": "S832SKLz9h7t",
        "colab_type": "text"
      },
      "source": [
        "**1. Create the below pattern using nested for loop in Python.**"
      ]
    },
    {
      "cell_type": "code",
      "metadata": {
        "id": "YuT-LjNr9BzR",
        "colab_type": "code",
        "colab": {
          "base_uri": "https://localhost:8080/",
          "height": 170
        },
        "outputId": "fbe0c4c0-5d4d-4139-dde2-1b8d545aeea8"
      },
      "source": [
        "def star(p):\n",
        "\n",
        "   for m in range(0,p,1):\n",
        "      for n in range(0, m+1,1):\n",
        "         print(\"* \",end=\"\")\n",
        "      print(\"\\r\")\n",
        "   for m in range(p-1,0,-1):\n",
        "      for n in range(m,0,-1):\n",
        "          print(\"* \",end=\"\")\n",
        "      print(\"\\r\")\n",
        "p=int(5)\n",
        "star(p)"
      ],
      "execution_count": 140,
      "outputs": [
        {
          "output_type": "stream",
          "text": [
            "* \r\n",
            "* * \r\n",
            "* * * \r\n",
            "* * * * \r\n",
            "* * * * * \r\n",
            "* * * * \r\n",
            "* * * \r\n",
            "* * \r\n",
            "* \r\n"
          ],
          "name": "stdout"
        }
      ]
    },
    {
      "cell_type": "markdown",
      "metadata": {
        "id": "7hfzJP9aVWX8",
        "colab_type": "text"
      },
      "source": [
        "**2. Write a Python program to reverse a word after accepting the input from the user.**"
      ]
    },
    {
      "cell_type": "code",
      "metadata": {
        "id": "W3ntzT3gK2NJ",
        "colab_type": "code",
        "colab": {
          "base_uri": "https://localhost:8080/",
          "height": 51
        },
        "outputId": "d08ea3bf-4eb7-4487-ef00-61577865572e"
      },
      "source": [
        "name=input(\"Enter the keyword:\")\n",
        "a=(list(name))\n",
        "a.reverse()\n",
        "a\n",
        "y=\"\".join(a)\n",
        "print(\"Reversed word:\",y)\n",
        "\n",
        "             \n",
        "\n",
        "\n",
        "\n"
      ],
      "execution_count": 211,
      "outputs": [
        {
          "output_type": "stream",
          "text": [
            "Enter the keyword:Divyaraj\n",
            "Reversed word: jarayviD\n"
          ],
          "name": "stdout"
        }
      ]
    },
    {
      "cell_type": "code",
      "metadata": {
        "id": "DMofovy2PvlJ",
        "colab_type": "code",
        "colab": {
          "base_uri": "https://localhost:8080/",
          "height": 34
        },
        "outputId": "3e9f5a74-6e92-459f-94df-7b6b52de8fd5"
      },
      "source": [
        "type(name)"
      ],
      "execution_count": 179,
      "outputs": [
        {
          "output_type": "execute_result",
          "data": {
            "text/plain": [
              "str"
            ]
          },
          "metadata": {
            "tags": []
          },
          "execution_count": 179
        }
      ]
    }
  ]
}