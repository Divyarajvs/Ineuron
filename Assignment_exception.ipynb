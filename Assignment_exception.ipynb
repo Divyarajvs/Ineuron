{
  "nbformat": 4,
  "nbformat_minor": 0,
  "metadata": {
    "colab": {
      "name": "Assignment exception.ipynb",
      "provenance": [],
      "collapsed_sections": [],
      "authorship_tag": "ABX9TyNUstm7ogmYHFsIsCwt7rJW",
      "include_colab_link": true
    },
    "kernelspec": {
      "name": "python3",
      "display_name": "Python 3"
    }
  },
  "cells": [
    {
      "cell_type": "markdown",
      "metadata": {
        "id": "view-in-github",
        "colab_type": "text"
      },
      "source": [
        "<a href=\"https://colab.research.google.com/github/Divyarajvs/Ineuron/blob/master/Assignment_exception.ipynb\" target=\"_parent\"><img src=\"https://colab.research.google.com/assets/colab-badge.svg\" alt=\"Open In Colab\"/></a>"
      ]
    },
    {
      "cell_type": "markdown",
      "metadata": {
        "id": "IW9-IXC3ofwH",
        "colab_type": "text"
      },
      "source": [
        "**1. Write a function to compute 5/0 and use try/except to catch the exceptions.**"
      ]
    },
    {
      "cell_type": "code",
      "metadata": {
        "id": "c6xcWFRvqWxa",
        "colab_type": "code",
        "colab": {
          "base_uri": "https://localhost:8080/",
          "height": 136
        },
        "outputId": "66e425a4-8d62-4483-b25e-7050cc3738e3"
      },
      "source": [
        "\n",
        "a=int(input(\"Enter the 1st value\"))\n",
        "b=int(input(\"Enter the 2nd value\"))\n",
        "try:\n",
        "    print(\"resourse open\")\n",
        "    print(a/b)\n",
        "    k=int(input(\"enter value\"))\n",
        "    print(k)\n",
        "except ZeroDivisionError as e:\n",
        "     print(\"cannot do the:\",e)\n",
        "\n",
        "except ValueError as e:\n",
        "     print(\"check with the input:\",e)\n",
        "\n",
        "except Exception as e:\n",
        "    print(\"invalid input\",e)\n",
        "    print(\"its okay now\")\n",
        "except IOError as e:\n",
        "    print(\"check the input,try again\",e)\n",
        "except :\n",
        "      print(\"check again\")\n",
        "finally:\n",
        "  print(\"resource closed\")"
      ],
      "execution_count": 15,
      "outputs": [
        {
          "output_type": "stream",
          "text": [
            "Enter the 1st value3\n",
            "Enter the 2nd value4\n",
            "resourse open\n",
            "0.75\n",
            "enter valueq\n",
            "check with the input: invalid literal for int() with base 10: 'q'\n",
            "resource closed\n"
          ],
          "name": "stdout"
        }
      ]
    },
    {
      "cell_type": "markdown",
      "metadata": {
        "id": "55beqF6yZYwl",
        "colab_type": "text"
      },
      "source": [
        ""
      ]
    },
    {
      "cell_type": "markdown",
      "metadata": {
        "id": "UuWAAxRubnFr",
        "colab_type": "text"
      },
      "source": [
        "2. Implement a Python program to generate all sentences where subject is in\n",
        "[\"Americans\", \"Indians\"] and verb is in [\"Play\", \"watch\"] and the object is in\n",
        "[\"Baseball\",\"cricket\"]."
      ]
    },
    {
      "cell_type": "code",
      "metadata": {
        "id": "U3WOkG7xboQg",
        "colab_type": "code",
        "colab": {
          "base_uri": "https://localhost:8080/",
          "height": 170
        },
        "outputId": "ec1c31db-85a0-47e5-ce7d-b8697f88bcb3"
      },
      "source": [
        "subjects=[\"Americans \",\"Indians\"]\n",
        "verbs=[\"play\",\"watch\"]\n",
        "objects=[\"Baseball\",\"Cricket\"]\n",
        "\n",
        "def sentenc():\n",
        "    t=''\n",
        "    for i in subjects:\n",
        "      for j in verbs:\n",
        "        for k in objects:\n",
        "          t=t+(i+' '+j+' '+k+\"\\n\")\n",
        "          \n",
        "    return t\n",
        "\n",
        "print(sentenc())\n",
        "\n",
        "\n"
      ],
      "execution_count": 38,
      "outputs": [
        {
          "output_type": "stream",
          "text": [
            "Americans  play Baseball\n",
            "Americans  play Cricket\n",
            "Americans  watch Baseball\n",
            "Americans  watch Cricket\n",
            "Indians play Baseball\n",
            "Indians play Cricket\n",
            "Indians watch Baseball\n",
            "Indians watch Cricket\n",
            "\n"
          ],
          "name": "stdout"
        }
      ]
    }
  ]
}