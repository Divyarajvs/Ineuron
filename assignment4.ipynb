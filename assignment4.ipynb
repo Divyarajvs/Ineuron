{
  "nbformat": 4,
  "nbformat_minor": 0,
  "metadata": {
    "colab": {
      "name": "assignment4.ipynb",
      "provenance": [],
      "collapsed_sections": [],
      "authorship_tag": "ABX9TyP83fF0ImqEf9B2thz42IRs",
      "include_colab_link": true
    },
    "kernelspec": {
      "name": "python3",
      "display_name": "Python 3"
    }
  },
  "cells": [
    {
      "cell_type": "markdown",
      "metadata": {
        "id": "view-in-github",
        "colab_type": "text"
      },
      "source": [
        "<a href=\"https://colab.research.google.com/github/Divyarajvs/Ineuron/blob/master/assignment4.ipynb\" target=\"_parent\"><img src=\"https://colab.research.google.com/assets/colab-badge.svg\" alt=\"Open In Colab\"/></a>"
      ]
    },
    {
      "cell_type": "markdown",
      "metadata": {
        "id": "topjwxcPlZ2C",
        "colab_type": "text"
      },
      "source": [
        "**1.1 Write a Python Program(with class concepts) to find the area of the triangle using the below\n",
        "formula.\n",
        "area = (s*(s-a)*(s-b)*(s-c)) ** 0.5**"
      ]
    },
    {
      "cell_type": "code",
      "metadata": {
        "id": "joeurU-9liS4",
        "colab_type": "code",
        "colab": {
          "base_uri": "https://localhost:8080/",
          "height": 86
        },
        "outputId": "9e223e07-ea11-4004-c07f-192fa2abebba"
      },
      "source": [
        "\n",
        "\n",
        "class Area:\n",
        "  def __init__(self,l,b,h,y):\n",
        "    \n",
        "    self.a=int(l)\n",
        "    self.b=int(b)\n",
        "    self.c=int(h)\n",
        "    self.s=int(y)\n",
        "    \n",
        "  def area_triangle(self):\n",
        "      \n",
        "      k=((self.s*((self.s-self.a)*(self.s-self.b)*(self.s-self.c)))**0.5)\n",
        "      msg = \"area of the traingle is %8.2f\" % (k)\n",
        "      return (msg)\n",
        "\n",
        "l=input(\"enter the values for length:\")\n",
        "b=input(\"enter the value for breadth:\")\n",
        "h=input(\"enter the value for breadth:\")\n",
        "y=int(l+b+h)/2\n",
        "q1=Area(l,b,h,y)\n",
        "q1.area_triangle()\n"
      ],
      "execution_count": 70,
      "outputs": [
        {
          "output_type": "stream",
          "text": [
            "enter the values for length:4\n",
            "enter the value for breadth:5\n",
            "enter the value for breadth:8\n"
          ],
          "name": "stdout"
        },
        {
          "output_type": "execute_result",
          "data": {
            "application/vnd.google.colaboratory.intrinsic+json": {
              "type": "string"
            },
            "text/plain": [
              "'area of the traingle is 50504.39'"
            ]
          },
          "metadata": {
            "tags": []
          },
          "execution_count": 70
        }
      ]
    },
    {
      "cell_type": "markdown",
      "metadata": {
        "id": "fXZmPmngljxM",
        "colab_type": "text"
      },
      "source": [
        "**1.2 Write a function filter_long_words() that takes a list of words and an integer n and returns\n",
        "the list of words that are longer than n**"
      ]
    },
    {
      "cell_type": "code",
      "metadata": {
        "id": "E7NAxZmtNleL",
        "colab_type": "code",
        "colab": {
          "base_uri": "https://localhost:8080/",
          "height": 68
        },
        "outputId": "5628249e-b7bf-4bdb-da8b-db11d3af1742"
      },
      "source": [
        "def filter_long_words(word1,num1):\n",
        "    x=(word1.split())\n",
        "    box=[] \n",
        "    for i in x:\n",
        "       if (len(i))>= int(num1):\n",
        "            box.append(i)\n",
        "    return box\n",
        "    \n",
        "\n",
        "a=input(\"enter the words:\")\n",
        "b=input(\"enter the word length for filtering:\")\n",
        "filter_long_words(a,b)"
      ],
      "execution_count": 114,
      "outputs": [
        {
          "output_type": "stream",
          "text": [
            "enter the words:we are going\n",
            "enter the word length for filtering:2\n"
          ],
          "name": "stdout"
        },
        {
          "output_type": "execute_result",
          "data": {
            "text/plain": [
              "['we', 'are', 'going']"
            ]
          },
          "metadata": {
            "tags": []
          },
          "execution_count": 114
        }
      ]
    },
    {
      "cell_type": "markdown",
      "metadata": {
        "id": "DRLmb8fAiYhR",
        "colab_type": "text"
      },
      "source": [
        "**2.1 Write a Python program using function concept that maps list of words into a list of integers\n",
        "representing the lengths of the corresponding words.\n",
        "Hint: If a list [ ab,cde,erty] is passed on to the python function output should come as [2,3,4]\n",
        "Here 2,3 and 4 are the lengths of the words in the list.**"
      ]
    },
    {
      "cell_type": "code",
      "metadata": {
        "id": "dL5wq21xib0y",
        "colab_type": "code",
        "colab": {
          "base_uri": "https://localhost:8080/",
          "height": 51
        },
        "outputId": "fcc6feec-64be-4174-f2fd-6ee95aadd567"
      },
      "source": [
        "def length_words(word1):\n",
        "    x=(word1.split())\n",
        "    box=[] \n",
        "    for i in x:\n",
        "       #q=len(i)\n",
        "       #if (len(i))>= int(num1):\n",
        "            box.append(len(i))\n",
        "    return box\n",
        "    \n",
        "a=input(\"enter the words:\")\n",
        "\n",
        "length_words(a)"
      ],
      "execution_count": 112,
      "outputs": [
        {
          "output_type": "stream",
          "text": [
            "enter the words:we are going to the park today\n"
          ],
          "name": "stdout"
        },
        {
          "output_type": "execute_result",
          "data": {
            "text/plain": [
              "[2, 3, 5, 2, 3, 4, 5]"
            ]
          },
          "metadata": {
            "tags": []
          },
          "execution_count": 112
        }
      ]
    },
    {
      "cell_type": "markdown",
      "metadata": {
        "id": "TpM9PdiNtlum",
        "colab_type": "text"
      },
      "source": [
        "**2.2 Write a Python function which takes a character (i.e. a string of length 1) and returns True if\n",
        "it is a vowel, False otherwise.**"
      ]
    },
    {
      "cell_type": "code",
      "metadata": {
        "id": "O7uUf15HtwIn",
        "colab_type": "code",
        "colab": {
          "base_uri": "https://localhost:8080/",
          "height": 51
        },
        "outputId": "05758df5-d32b-42f6-fd03-c32c169bd3cd"
      },
      "source": [
        "def vowels_words(word1):\n",
        "    \n",
        "    vow='A','E','I','O','U'\n",
        "    for j in vow:\n",
        "         if j==word1.upper():\n",
        "           box =True\n",
        "           break\n",
        "         else:\n",
        "            box =False\n",
        "    return box\n",
        "    \n",
        "a=input(\"enter the words:\")\n",
        "\n",
        "vowels_words(a)"
      ],
      "execution_count": 148,
      "outputs": [
        {
          "output_type": "stream",
          "text": [
            "enter the words:i\n"
          ],
          "name": "stdout"
        },
        {
          "output_type": "execute_result",
          "data": {
            "text/plain": [
              "True"
            ]
          },
          "metadata": {
            "tags": []
          },
          "execution_count": 148
        }
      ]
    }
  ]
}